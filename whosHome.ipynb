{
 "cells": [
  {
   "cell_type": "code",
   "execution_count": 6,
   "metadata": {},
   "outputs": [],
   "source": [
    "import os\n",
    "import rasterio\n",
    "from shapely.geometry import box\n",
    "import geopandas as gpd\n",
    "import pandas as pd\n",
    "from fiona.crs import from_epsg\n",
    "import pycrs\n",
    "from matplotlib import pyplot"
   ]
  },
  {
   "cell_type": "code",
   "execution_count": 7,
   "metadata": {},
   "outputs": [
    {
     "data": {
      "text/plain": [
       "'C:\\\\Users\\\\Scott\\\\Desktop\\\\exampleData'"
      ]
     },
     "execution_count": 7,
     "metadata": {},
     "output_type": "execute_result"
    }
   ],
   "source": [
    "os.chdir('C://Users//Scott/Desktop/exampleData/')\n",
    "os.getcwd()"
   ]
  },
  {
   "cell_type": "code",
   "execution_count": 8,
   "metadata": {},
   "outputs": [],
   "source": [
    "fp = r\"MD_510-N-PAYSON-ST_2014.tif\"\n",
    "loadedGeotif = rasterio.open(fp)"
   ]
  },
  {
   "cell_type": "code",
   "execution_count": 10,
   "metadata": {},
   "outputs": [
    {
     "name": "stdout",
     "output_type": "stream",
     "text": [
      "4326\n"
     ]
    }
   ],
   "source": [
    "epsg_code = int(loadedGeotif.crs.data['init'][5:])\n",
    "print(epsg_code)"
   ]
  },
  {
   "cell_type": "code",
   "execution_count": 11,
   "metadata": {},
   "outputs": [
    {
     "data": {
      "text/plain": [
       "BoundingBox(left=-76.64943837581602, bottom=39.29388854781503, right=-76.64903936757446, top=39.29419485412876)"
      ]
     },
     "execution_count": 11,
     "metadata": {},
     "output_type": "execute_result"
    }
   ],
   "source": [
    "loadedGeotif.bounds"
   ]
  },
  {
   "cell_type": "code",
   "execution_count": null,
   "metadata": {},
   "outputs": [],
   "source": [
    "def getRoofImage(df, rowNum): #geotiff, dataframe to parse\n",
    "    \"\"\"Function to show image of vacant property\"\"\"\n",
    "    \n",
    "    \n",
    "    #Northlat\n",
    "    #southlat\n",
    "    #westLong\n",
    "    #eastLong\n",
    "    \n",
    "    # limit vacant dataframe to geotiff area\n",
    "    sandtownVacantdf = vacantdf[(vacantdf['Latitude'] > 39.289053) & \n",
    "                            (vacantdf['Latitude'] < 39.2997794) &\n",
    "                            (vacantdf['Longitude'] < -76.6408601)&\n",
    "                            (vacantdf['Longitude'] > -76.661873)]\n",
    "\n",
    "    #return df that has the addresses in the photo\n",
    "\n",
    "    bbox = box(minx, miny, maxx, maxy)\n",
    "    geo = gpd.GeoDataFrame({'geometry': bbox}, index=[0], crs=from_epsg(4326)) # 4326 = WGS84\n",
    "    geo = geo.to_crs(crs=data.crs.data) # project into same\n",
    "    coords = getFeatures(geo)\n",
    "\n",
    "    out_img, out_transform = mask(data, coords, crop=True)\n",
    "    out_meta = data.meta.copy()\n",
    "    epsg_code = int(data.crs.data['init'][5:])\n",
    "\n",
    "    out_meta.update({\"driver\": \"GTiff\",\n",
    "                     \"height\": out_img.shape[1],\n",
    "                     \"width\": out_img.shape[2],\n",
    "                     \"count\": 3,\n",
    "                     \"transform\": out_transform})\n",
    "    \n",
    "    fullFileName = addressFilePart+'.tif'\n",
    "    print(fullFileName)\n",
    "    #return df that has the addresses in the photo"
   ]
  }
 ],
 "metadata": {
  "kernelspec": {
   "display_name": "Python 3",
   "language": "python",
   "name": "python3"
  },
  "language_info": {
   "codemirror_mode": {
    "name": "ipython",
    "version": 3
   },
   "file_extension": ".py",
   "mimetype": "text/x-python",
   "name": "python",
   "nbconvert_exporter": "python",
   "pygments_lexer": "ipython3",
   "version": "3.7.3"
  }
 },
 "nbformat": 4,
 "nbformat_minor": 2
}
